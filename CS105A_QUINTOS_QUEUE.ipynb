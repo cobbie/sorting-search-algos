{
 "cells": [
  {
   "cell_type": "markdown",
   "metadata": {},
   "source": [
    "# Queue class in Python"
   ]
  },
  {
   "cell_type": "code",
   "execution_count": 404,
   "metadata": {},
   "outputs": [],
   "source": [
    "# This queue class requires an input of an array when instantiating its objects\n",
    "class CobbieQueue():\n",
    "    \n",
    "    top = None\n",
    "    last = None\n",
    "    \n",
    "    def __init__(self, arr):\n",
    "        self.arr = arr\n",
    "        self.top = self.arr[0]\n",
    "        self.last = self.arr[len(self.arr)-1]\n",
    "        \n",
    "    def __str__(self):\n",
    "        return str(self.arr)\n",
    "        \n",
    "    def enqueue(self, num):\n",
    "        self.arr.append(num)\n",
    "        self.last = num\n",
    "        print(f'{num} added to the queue')\n",
    "        \n",
    "    def dequeue(self):\n",
    "        if(len(self.arr) >= 1):\n",
    "            print(f'{self.arr[self.top]} removed from queue')\n",
    "            del self.arr[self.top]\n",
    "        else:\n",
    "            print('There are no more items in your queue!')\n",
    "        #self.top = self.arr[0]\n",
    "        \n",
    "    def peek(self):\n",
    "        if len(self.arr) >= 1:\n",
    "             print('Current last item in queue: ' + str(self.last))\n",
    "        else:\n",
    "            print(\"No items in queue\")\n",
    "    \n",
    "    def count(self):\n",
    "        if len(self.arr) >= 1:\n",
    "             print('Total values currently in queue: ' + str(len(self.arr)))\n",
    "        else:\n",
    "             print(\"No items in queue\")\n",
    "                \n",
    "    def clear(self):\n",
    "        del self.arr[:]\n",
    "        print(f\"Queue cleared\\n{self.arr}\")"
   ]
  },
  {
   "cell_type": "markdown",
   "metadata": {},
   "source": [
    "### Usage of queue class and methods"
   ]
  },
  {
   "cell_type": "code",
   "execution_count": 405,
   "metadata": {},
   "outputs": [
    {
     "name": "stdout",
     "output_type": "stream",
     "text": [
      "[0, 3, 4, 1, 12]\n"
     ]
    }
   ],
   "source": [
    "q1 = CobbieQueue([0, 3, 4, 1, 12])\n",
    "print(q1)"
   ]
  },
  {
   "cell_type": "code",
   "execution_count": 406,
   "metadata": {},
   "outputs": [
    {
     "name": "stdout",
     "output_type": "stream",
     "text": [
      "Total values currently in queue: 5\n",
      "----------\n",
      "16 added to the queue\n",
      "0 removed from queue\n",
      "3 removed from queue\n",
      "99 added to the queue\n",
      "----------\n",
      "[4, 1, 12, 16, 99]\n",
      "Total values currently in queue: 5\n",
      "----------\n",
      "Current last item in queue: 99\n",
      "----------\n",
      "Queue cleared\n",
      "[]\n",
      "There are no more items in your queue!\n"
     ]
    }
   ],
   "source": [
    "#Sample\n",
    "div = '----------'\n",
    "q1.count()\n",
    "\n",
    "print(div)\n",
    "\n",
    "q1.enqueue(16)\n",
    "q1.dequeue()\n",
    "q1.dequeue()\n",
    "q1.enqueue(99)\n",
    "\n",
    "print(div)\n",
    "print(q1)\n",
    "\n",
    "q1.count()\n",
    "\n",
    "print(div)\n",
    "\n",
    "q1.peek()\n",
    "\n",
    "print(div)\n",
    "\n",
    "q1.clear()\n",
    "q1.dequeue()"
   ]
  }
 ],
 "metadata": {
  "kernelspec": {
   "display_name": "Python 3",
   "language": "python",
   "name": "python3"
  },
  "language_info": {
   "codemirror_mode": {
    "name": "ipython",
    "version": 3
   },
   "file_extension": ".py",
   "mimetype": "text/x-python",
   "name": "python",
   "nbconvert_exporter": "python",
   "pygments_lexer": "ipython3",
   "version": "3.6.4"
  }
 },
 "nbformat": 4,
 "nbformat_minor": 2
}
