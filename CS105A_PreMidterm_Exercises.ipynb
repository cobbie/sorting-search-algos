{
 "cells": [
  {
   "cell_type": "markdown",
   "metadata": {},
   "source": [
    "# Create a recursive algorithm for adding the squares of a series of integers\n",
    ": 1^2 + 2^2 + 3^2 + ... + n2 = ?\n"
   ]
  },
  {
   "cell_type": "code",
   "execution_count": 1,
   "metadata": {},
   "outputs": [],
   "source": [
    "def recursionAddSquares(num):\n",
    "    sum = 0;\n",
    "    sum += num**2\n",
    "    if sum == 0:\n",
    "        return 0;\n",
    "    return recursionAddSquares(num-1) + sum\n"
   ]
  },
  {
   "cell_type": "code",
   "execution_count": 2,
   "metadata": {},
   "outputs": [
    {
     "data": {
      "text/plain": [
       "5"
      ]
     },
     "execution_count": 2,
     "metadata": {},
     "output_type": "execute_result"
    }
   ],
   "source": [
    "recursionAddSquares(2)"
   ]
  },
  {
   "cell_type": "markdown",
   "metadata": {},
   "source": [
    "# Create an algorithm for the following\n",
    "# use-case:\n",
    "Algorithm Z(A)\n",
    "Input: An array of integers A\n",
    "Output: an array with only the even numbers from A"
   ]
  },
  {
   "cell_type": "code",
   "execution_count": 3,
   "metadata": {},
   "outputs": [],
   "source": [
    "def algoZ(arrA):\n",
    "        arr = []\n",
    "        curr = 0\n",
    "        for item in arrA: \n",
    "            if item % 2 == 0:\n",
    "                arr.append(item)\n",
    "                curr+=1\n",
    "        return arr"
   ]
  },
  {
   "cell_type": "code",
   "execution_count": 4,
   "metadata": {},
   "outputs": [
    {
     "data": {
      "text/plain": [
       "[2, 4, 6, 4, 2, 68, 400]"
      ]
     },
     "execution_count": 4,
     "metadata": {},
     "output_type": "execute_result"
    }
   ],
   "source": [
    "algoZ([2,3, 4, 7, 5, 3, 5, 6, 4, 2, 68, 400])"
   ]
  },
  {
   "cell_type": "markdown",
   "metadata": {},
   "source": [
    "# Create an algorithm for the following\n",
    "use-case:\n",
    "Algorithm R(A)\n",
    "Input: An array of integers A\n",
    "Output: an reversed array A"
   ]
  },
  {
   "cell_type": "code",
   "execution_count": 12,
   "metadata": {},
   "outputs": [],
   "source": [
    "def algoR(arr2):\n",
    "    arrOut = []\n",
    "    curr = 0\n",
    "    curr2 = -1\n",
    "    for i in arr2:\n",
    "        arrOut.append(arr2[curr2])\n",
    "        curr+= 1\n",
    "        curr2-=1\n",
    "    return arrOut"
   ]
  },
  {
   "cell_type": "code",
   "execution_count": 13,
   "metadata": {},
   "outputs": [
    {
     "data": {
      "text/plain": [
       "[9, 8, 7, 6, 5, 4, 3, 2, 1]"
      ]
     },
     "execution_count": 13,
     "metadata": {},
     "output_type": "execute_result"
    }
   ],
   "source": [
    "algoR([1,2,3,4,5,6,7,8,9])"
   ]
  },
  {
   "cell_type": "markdown",
   "metadata": {},
   "source": [
    "# Algorithm returning minimum value in array"
   ]
  },
  {
   "cell_type": "code",
   "execution_count": 14,
   "metadata": {},
   "outputs": [],
   "source": [
    "def retMin(arrF): \n",
    "    currMin = arrF[0]\n",
    "    for i in arrF:\n",
    "        if currMin > i:\n",
    "            currMin = i\n",
    "    return currMin\n",
    "            "
   ]
  },
  {
   "cell_type": "code",
   "execution_count": 9,
   "metadata": {},
   "outputs": [
    {
     "data": {
      "text/plain": [
       "1"
      ]
     },
     "execution_count": 9,
     "metadata": {},
     "output_type": "execute_result"
    }
   ],
   "source": [
    "retMin([3, 4, 6,3,24, 1, 4, 6])"
   ]
  }
 ],
 "metadata": {
  "kernelspec": {
   "display_name": "Python 3",
   "language": "python",
   "name": "python3"
  },
  "language_info": {
   "codemirror_mode": {
    "name": "ipython",
    "version": 3
   },
   "file_extension": ".py",
   "mimetype": "text/x-python",
   "name": "python",
   "nbconvert_exporter": "python",
   "pygments_lexer": "ipython3",
   "version": "3.6.4"
  }
 },
 "nbformat": 4,
 "nbformat_minor": 2
}
