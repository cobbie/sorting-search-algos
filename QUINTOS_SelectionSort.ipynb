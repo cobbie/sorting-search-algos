{
 "cells": [
  {
   "cell_type": "code",
   "execution_count": 1,
   "metadata": {},
   "outputs": [],
   "source": [
    "def SelectionSort(listx):\n",
    "    print('---SELECTION SORT--- \\nOriginal values: ')\n",
    "    print(str(listx) + '\\n----------------------\\nSteps:')\n",
    "    n = len(listx)\n",
    "    stepsno = 0\n",
    "    for i in range(0, n-1):\n",
    "        stepsno += 1\n",
    "        mini = i\n",
    "        \n",
    "        for j in range(i + 1, n):\n",
    "            if listx[j] < listx[mini]:\n",
    "                mini= j\n",
    "                \n",
    "        if mini != i:\n",
    "            a = listx[mini]\n",
    "            listx[mini] = listx[i]\n",
    "            listx[i] = a\n",
    "        print(listx)\n",
    "    print('----------------------\\nSorted version: \\n' + str(listx) + f'\\n\\nSteps taken: {stepsno}\\n')"
   ]
  },
  {
   "cell_type": "code",
   "execution_count": 2,
   "metadata": {},
   "outputs": [
    {
     "name": "stdout",
     "output_type": "stream",
     "text": [
      "---SELECTION SORT--- \n",
      "Original values: \n",
      "[0, -34, 2, -2, 1, 66, -3, 323, -5000]\n",
      "----------------------\n",
      "Steps:\n",
      "[-5000, -34, 2, -2, 1, 66, -3, 323, 0]\n",
      "[-5000, -34, 2, -2, 1, 66, -3, 323, 0]\n",
      "[-5000, -34, -3, -2, 1, 66, 2, 323, 0]\n",
      "[-5000, -34, -3, -2, 1, 66, 2, 323, 0]\n",
      "[-5000, -34, -3, -2, 0, 66, 2, 323, 1]\n",
      "[-5000, -34, -3, -2, 0, 1, 2, 323, 66]\n",
      "[-5000, -34, -3, -2, 0, 1, 2, 323, 66]\n",
      "[-5000, -34, -3, -2, 0, 1, 2, 66, 323]\n",
      "----------------------\n",
      "Sorted version: \n",
      "[-5000, -34, -3, -2, 0, 1, 2, 66, 323]\n",
      "\n",
      "Steps taken: 8\n",
      "\n"
     ]
    }
   ],
   "source": [
    "SelectionSort([0, -34, 2, -2, 1, 66, -3, 323, -5000])"
   ]
  }
 ],
 "metadata": {
  "kernelspec": {
   "display_name": "Python 3",
   "language": "python",
   "name": "python3"
  },
  "language_info": {
   "codemirror_mode": {
    "name": "ipython",
    "version": 3
   },
   "file_extension": ".py",
   "mimetype": "text/x-python",
   "name": "python",
   "nbconvert_exporter": "python",
   "pygments_lexer": "ipython3",
   "version": "3.6.4"
  }
 },
 "nbformat": 4,
 "nbformat_minor": 2
}
