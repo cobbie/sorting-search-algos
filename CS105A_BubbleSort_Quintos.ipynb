{
 "cells": [
  {
   "cell_type": "code",
   "execution_count": 12,
   "metadata": {},
   "outputs": [],
   "source": [
    "import copy"
   ]
  },
  {
   "cell_type": "markdown",
   "metadata": {},
   "source": [
    "## Bubble Sort 1: print out result"
   ]
  },
  {
   "cell_type": "code",
   "execution_count": 13,
   "metadata": {},
   "outputs": [],
   "source": [
    "def bubbleSort(listX):\n",
    "    for i in range(len(listX) - 1,0,-1):\n",
    "        for x in range(i):\n",
    "            if listX[x] > listX[x + 1]:\n",
    "                current = listX[x]\n",
    "                listX[x] = listX[x + 1]\n",
    "                listX[x + 1] = current\n",
    "    print(listX)"
   ]
  },
  {
   "cell_type": "markdown",
   "metadata": {},
   "source": [
    "## Bubble Sort 2: Show steps and result"
   ]
  },
  {
   "cell_type": "code",
   "execution_count": 14,
   "metadata": {},
   "outputs": [],
   "source": [
    "def bubbleSort2(listX):\n",
    "    print(listX)\n",
    "    for i in range(len(listX) - 1,0,-1):\n",
    "        change = False\n",
    "        for x in range(i):\n",
    "            if listX[x] > listX[x + 1]:\n",
    "                current = listX[x]\n",
    "                listX[x] = listX[x + 1]\n",
    "                listX[x + 1] = current\n",
    "                change = True\n",
    "        if change == True:\n",
    "            print(listX)"
   ]
  },
  {
   "cell_type": "code",
   "execution_count": 15,
   "metadata": {},
   "outputs": [],
   "source": [
    "listABC = [2, 1, 4, 3, 23, 22, 9]\n",
    "listABC_copy = copy.copy(listABC)"
   ]
  },
  {
   "cell_type": "code",
   "execution_count": 16,
   "metadata": {},
   "outputs": [
    {
     "name": "stdout",
     "output_type": "stream",
     "text": [
      "[1, 2, 3, 4, 9, 22, 23]\n"
     ]
    }
   ],
   "source": [
    "bubbleSort(listABC)"
   ]
  },
  {
   "cell_type": "code",
   "execution_count": 17,
   "metadata": {},
   "outputs": [
    {
     "name": "stdout",
     "output_type": "stream",
     "text": [
      "[2, 1, 4, 3, 23, 22, 9]\n",
      "[1, 2, 3, 4, 22, 9, 23]\n",
      "[1, 2, 3, 4, 9, 22, 23]\n"
     ]
    }
   ],
   "source": [
    "bubbleSort2(listABC_copy)"
   ]
  }
 ],
 "metadata": {
  "kernelspec": {
   "display_name": "Python 3",
   "language": "python",
   "name": "python3"
  },
  "language_info": {
   "codemirror_mode": {
    "name": "ipython",
    "version": 3
   },
   "file_extension": ".py",
   "mimetype": "text/x-python",
   "name": "python",
   "nbconvert_exporter": "python",
   "pygments_lexer": "ipython3",
   "version": "3.6.4"
  }
 },
 "nbformat": 4,
 "nbformat_minor": 2
}
